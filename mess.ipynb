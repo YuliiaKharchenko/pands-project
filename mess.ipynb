{
 "cells": [
  {
   "cell_type": "code",
   "execution_count": null,
   "metadata": {},
   "outputs": [],
   "source": []
  },
  {
   "cell_type": "markdown",
   "metadata": {},
   "source": [
    "* <span style=\"color:purple\">__.gitignore__</span>\n",
    "* <span style=\"color:purple\">__analysis.py__</span>\n",
    "* <span style=\"color:purple\">__Corelation_matrix.png__</span>\n",
    "* <span style=\"color:purple\">__Individual_ratios.txt__</span>\n",
    "* <span style=\"color:purple\">__iris-pic.png__</span>\n",
    "* <span style=\"color:purple\">__iris.csv__</span>\n",
    "* <span style=\"color:purple\">__Mean_ratios.txt__</span>\n",
    "* <span style=\"color:purple\">__petal length_cm_histogram.png, petal width_cm_histogram.png, sepal length_cm_histogram.png, sepal width_cm_histogram.png, species of flowers_histogram.png__</span>\n",
    "* <span style=\"color:purple\">__petal length_cm(Summary).txt, petal width_cm(Summary).txt, sepal length_cm(Summary).txt, sepal width_cm(Summary).txt, species of flowers(Summary).txt__</span>\n",
    "* <span style=\"color:purple\">__ratio.py__</span>\n",
    "* <span style=\"color:purple\">__README.md__</span>\n",
    "* <span style=\"color:purple\">__scatter_plot.png__</span>\n",
    "* <span style=\"color:purple\">__Summary.txt__</span>\n",
    "\n"
   ]
  }
 ],
 "metadata": {
  "kernelspec": {
   "display_name": "base",
   "language": "python",
   "name": "python3"
  },
  "language_info": {
   "codemirror_mode": {
    "name": "ipython",
    "version": 3
   },
   "file_extension": ".py",
   "mimetype": "text/x-python",
   "name": "python",
   "nbconvert_exporter": "python",
   "pygments_lexer": "ipython3",
   "version": "3.11.5"
  }
 },
 "nbformat": 4,
 "nbformat_minor": 2
}
