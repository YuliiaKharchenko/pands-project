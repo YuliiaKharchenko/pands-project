{
 "cells": [
  {
   "cell_type": "code",
   "execution_count": null,
   "metadata": {},
   "outputs": [],
   "source": []
  },
  {
   "cell_type": "markdown",
   "metadata": {},
   "source": [
    "#### Description of the files in the repository\n",
    "\n",
    "* <span style=\"color:purple\">__.gitignore__</span> \n",
    "\n",
    "> File format: Text. Description: Specifies files and directories to be ignored by Git during commits and updates.\n",
    "\n",
    "* <span style=\"color:purple\">__analysis.py__</span>\n",
    "\n",
    "> File format: Python script (.py). Description: Python script for analyzing the Iris dataset. Generates various analytical results based on the data.\n",
    "\n",
    "* <span style=\"color:purple\">__Corelation_matrix.png__</span>\n",
    "\n",
    "> File format: PNG image. Description: Correlation matrix demonstrating the relationship between variables in the Iris dataset. Generated using the analysis script.\n",
    "\n",
    "* <span style=\"color:purple\">__Individual_ratios.txt__</span>\n",
    "\n",
    "> File format: Text. Description: File containing individual length-to-width ratios for each iris specimen. Generated using the analysis script.\n",
    "\n",
    "* <span style=\"color:purple\">__iris-pic.png__</span>\n",
    "\n",
    "> File format: PNG image. Description: Image of an iris, used for visualization in README.\n",
    "\n",
    "* <span style=\"color:purple\">__iris.csv__</span>\n",
    "\n",
    "> File format: CSV. Description: Iris dataset containing information about the length and width of sepals and petals of iris flowers.\n",
    "\n",
    "* <span style=\"color:purple\">__Mean_ratios.txt__</span>\n",
    "\n",
    "> File format: Text. Description: File containing mean length-to-width ratios for each iris species. Generated using the analysis script.\n",
    "\n",
    "* <span style=\"color:purple\">__petal length_cm_histogram.png, petal width_cm_histogram.png, sepal length_cm_histogram.png, sepal width_cm_histogram.png, species of flowers_histogram.png__</span>\n",
    "\n",
    "> File format: PNG image. Description: Histograms for each variable in the Iris dataset. Generated using the analysis script.\n",
    "\n",
    "* <span style=\"color:purple\">__petal length_cm(Summary).txt, petal width_cm(Summary).txt, sepal length_cm(Summary).txt, sepal width_cm(Summary).txt, species of flowers(Summary).txt__</span>\n",
    "\n",
    "> File format: Text. Description: Files with a brief description of each variable in the Iris dataset. Generated using the analysis script.\n",
    "\n",
    "* <span style=\"color:purple\">__ratio.py__</span>\n",
    "\n",
    ">  File format: Python script (.py). Description: Python module containing functions for calculating individual and mean length-to-width ratios.\n",
    "\n",
    "* <span style=\"color:purple\">__README.md__</span>\n",
    "\n",
    "> File format: Markdown (.md). Description: README file with project description, installation and usage instructions, description of files and analytical conclusions based on the results obtained. \n",
    "\n",
    "* <span style=\"color:purple\">__scatter_plot.png__</span>\n",
    "\n",
    "> File format: PNG image. Description: Scatter plot showing relationships between pairs of variables in the Iris dataset. Generated using the analysis script.\n",
    "\n",
    "* <span style=\"color:purple\">__Summary.txt__</span>\n",
    "\n",
    "> File format: Text. Description: File containing summary information about the Iris dataset. Generated using the analysis script.\n",
    "\n"
   ]
  }
 ],
 "metadata": {
  "kernelspec": {
   "display_name": "base",
   "language": "python",
   "name": "python3"
  },
  "language_info": {
   "codemirror_mode": {
    "name": "ipython",
    "version": 3
   },
   "file_extension": ".py",
   "mimetype": "text/x-python",
   "name": "python",
   "nbconvert_exporter": "python",
   "pygments_lexer": "ipython3",
   "version": "3.11.5"
  }
 },
 "nbformat": 4,
 "nbformat_minor": 2
}
